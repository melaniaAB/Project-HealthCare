{
 "cells": [
  {
   "cell_type": "markdown",
   "metadata": {},
   "source": [
    "### A.1) Import library"
   ]
  },
  {
   "cell_type": "code",
   "execution_count": 33,
   "metadata": {},
   "outputs": [
    {
     "data": {
      "text/plain": [
       "Index(['Pregnancies', 'Glucose', 'BloodPressure', 'SkinThickness', 'Insulin',\n",
       "       'BMI', 'DiabetesPedigreeFunction', 'Age', 'Outcome'],\n",
       "      dtype='object')"
      ]
     },
     "execution_count": 33,
     "metadata": {},
     "output_type": "execute_result"
    }
   ],
   "source": [
    "from sklearn.datasets import make_classification\n",
    "%matplotlib inline\n",
    "import pandas as pd\n",
    "import numpy as np\n",
    "import matplotlib.pyplot as plt\n",
    "import seaborn as sns\n",
    "diabetes = pd.read_csv('diabetes.csv')\n",
    "diabetes.columns "
   ]
  },
  {
   "cell_type": "code",
   "execution_count": 28,
   "metadata": {},
   "outputs": [
    {
     "name": "stdout",
     "output_type": "stream",
     "text": [
      "Outcome\n",
      "0    500\n",
      "1    268\n",
      "dtype: int64\n"
     ]
    }
   ],
   "source": [
    "print(diabetes.groupby('Outcome').size())"
   ]
  },
  {
   "cell_type": "code",
   "execution_count": 29,
   "metadata": {},
   "outputs": [
    {
     "name": "stderr",
     "output_type": "stream",
     "text": [
      "C:\\ProgramData\\Anaconda3\\lib\\site-packages\\seaborn\\_decorators.py:36: FutureWarning: Pass the following variable as a keyword arg: x. From version 0.12, the only valid positional argument will be `data`, and passing other arguments without an explicit keyword will result in an error or misinterpretation.\n",
      "  warnings.warn(\n"
     ]
    },
    {
     "data": {
      "text/plain": [
       "<matplotlib.axes._subplots.AxesSubplot at 0x1ba9b6572b0>"
      ]
     },
     "execution_count": 29,
     "metadata": {},
     "output_type": "execute_result"
    },
    {
     "data": {
      "image/png": "[encoded data removed]",
      "text/plain": [
       "<Figure size 432x288 with 1 Axes>"
      ]
     },
     "metadata": {
      "needs_background": "light"
     },
     "output_type": "display_data"
    }
   ],
   "source": [
    "sns.countplot(diabetes['Outcome'],label=\"Count\")"
   ]
  },
  {
   "cell_type": "markdown",
   "metadata": {},
   "source": [
    "### A.2) Load data"
   ]
  },
  {
   "cell_type": "code",
   "execution_count": 34,
   "metadata": {},
   "outputs": [
    {
     "data": {
      "text/html": [
       "<div>\n",
       "<style scoped>\n",
       "    .dataframe tbody tr th:only-of-type {\n",
       "        vertical-align: middle;\n",
       "    }\n",
       "\n",
       "    .dataframe tbody tr th {\n",
       "        vertical-align: top;\n",
       "    }\n",
       "\n",
       "    .dataframe thead th {\n",
       "        text-align: right;\n",
       "    }\n",
       "</style>\n",
       "<table border=\"1\" class=\"dataframe\">\n",
       "  <thead>\n",
       "    <tr style=\"text-align: right;\">\n",
       "      <th></th>\n",
       "      <th>Pregnancies</th>\n",
       "      <th>Glucose</th>\n",
       "      <th>BloodPressure</th>\n",
       "      <th>SkinThickness</th>\n",
       "      <th>Insulin</th>\n",
       "      <th>BMI</th>\n",
       "      <th>DiabetesPedigreeFunction</th>\n",
       "      <th>Age</th>\n",
       "      <th>Outcome</th>\n",
       "    </tr>\n",
       "  </thead>\n",
       "  <tbody>\n",
       "    <tr>\n",
       "      <th>0</th>\n",
       "      <td>6</td>\n",
       "      <td>148</td>\n",
       "      <td>72</td>\n",
       "      <td>35</td>\n",
       "      <td>0</td>\n",
       "      <td>33.6</td>\n",
       "      <td>0.627</td>\n",
       "      <td>50</td>\n",
       "      <td>1</td>\n",
       "    </tr>\n",
       "    <tr>\n",
       "      <th>1</th>\n",
       "      <td>1</td>\n",
       "      <td>85</td>\n",
       "      <td>66</td>\n",
       "      <td>29</td>\n",
       "      <td>0</td>\n",
       "      <td>26.6</td>\n",
       "      <td>0.351</td>\n",
       "      <td>31</td>\n",
       "      <td>0</td>\n",
       "    </tr>\n",
       "    <tr>\n",
       "      <th>2</th>\n",
       "      <td>8</td>\n",
       "      <td>183</td>\n",
       "      <td>64</td>\n",
       "      <td>0</td>\n",
       "      <td>0</td>\n",
       "      <td>23.3</td>\n",
       "      <td>0.672</td>\n",
       "      <td>32</td>\n",
       "      <td>1</td>\n",
       "    </tr>\n",
       "    <tr>\n",
       "      <th>3</th>\n",
       "      <td>1</td>\n",
       "      <td>89</td>\n",
       "      <td>66</td>\n",
       "      <td>23</td>\n",
       "      <td>94</td>\n",
       "      <td>28.1</td>\n",
       "      <td>0.167</td>\n",
       "      <td>21</td>\n",
       "      <td>0</td>\n",
       "    </tr>\n",
       "    <tr>\n",
       "      <th>4</th>\n",
       "      <td>0</td>\n",
       "      <td>137</td>\n",
       "      <td>40</td>\n",
       "      <td>35</td>\n",
       "      <td>168</td>\n",
       "      <td>43.1</td>\n",
       "      <td>2.288</td>\n",
       "      <td>33</td>\n",
       "      <td>1</td>\n",
       "    </tr>\n",
       "  </tbody>\n",
       "</table>\n",
       "</div>"
      ],
      "text/plain": [
       "   Pregnancies  Glucose  BloodPressure  SkinThickness  Insulin   BMI  \\\n",
       "0            6      148             72             35        0  33.6   \n",
       "1            1       85             66             29        0  26.6   \n",
       "2            8      183             64              0        0  23.3   \n",
       "3            1       89             66             23       94  28.1   \n",
       "4            0      137             40             35      168  43.1   \n",
       "\n",
       "   DiabetesPedigreeFunction  Age  Outcome  \n",
       "0                     0.627   50        1  \n",
       "1                     0.351   31        0  \n",
       "2                     0.672   32        1  \n",
       "3                     0.167   21        0  \n",
       "4                     2.288   33        1  "
      ]
     },
     "execution_count": 34,
     "metadata": {},
     "output_type": "execute_result"
    }
   ],
   "source": [
    "diabetes.head()"
   ]
  },
  {
   "cell_type": "code",
   "execution_count": 36,
   "metadata": {},
   "outputs": [],
   "source": [
    "X = diabetes.drop('Outcome', axis=1)"
   ]
  },
  {
   "cell_type": "code",
   "execution_count": 38,
   "metadata": {},
   "outputs": [
    {
     "data": {
      "text/plain": [
       "(768, 9)"
      ]
     },
     "execution_count": 38,
     "metadata": {},
     "output_type": "execute_result"
    }
   ],
   "source": [
    "diabetes.shape"
   ]
  },
  {
   "cell_type": "code",
   "execution_count": 41,
   "metadata": {},
   "outputs": [
    {
     "data": {
      "text/plain": [
       "0      1\n",
       "1      0\n",
       "2      1\n",
       "3      0\n",
       "4      1\n",
       "      ..\n",
       "763    0\n",
       "764    0\n",
       "765    0\n",
       "766    1\n",
       "767    0\n",
       "Name: Outcome, Length: 768, dtype: int64"
      ]
     },
     "execution_count": 41,
     "metadata": {},
     "output_type": "execute_result"
    }
   ],
   "source": [
    "\n",
    "Y = diabetes.Outcome\n",
    "Y"
   ]
  },
  {
   "cell_type": "markdown",
   "metadata": {},
   "source": [
    "### B.1) Data split (80 / 20 ratio)"
   ]
  },
  {
   "cell_type": "code",
   "execution_count": 13,
   "metadata": {},
   "outputs": [],
   "source": [
    "from sklearn.model_selection import train_test_split"
   ]
  },
  {
   "cell_type": "code",
   "execution_count": 42,
   "metadata": {},
   "outputs": [],
   "source": [
    "X_train, X_test, Y_train, Y_test = train_test_split(X, Y, test_size=0.2)"
   ]
  },
  {
   "cell_type": "code",
   "execution_count": 43,
   "metadata": {},
   "outputs": [
    {
     "data": {
      "text/plain": [
       "((614, 8), (614,))"
      ]
     },
     "execution_count": 43,
     "metadata": {},
     "output_type": "execute_result"
    }
   ],
   "source": [
    "#data dimensiosn\n",
    "X_train.shape, Y_train.shape"
   ]
  },
  {
   "cell_type": "code",
   "execution_count": 44,
   "metadata": {},
   "outputs": [
    {
     "data": {
      "text/plain": [
       "((154, 8), (154,))"
      ]
     },
     "execution_count": 44,
     "metadata": {},
     "output_type": "execute_result"
    }
   ],
   "source": [
    "X_test.shape, Y_test.shape"
   ]
  },
  {
   "cell_type": "markdown",
   "metadata": {},
   "source": [
    "### C} Build Classification model"
   ]
  },
  {
   "cell_type": "code",
   "execution_count": 45,
   "metadata": {},
   "outputs": [],
   "source": [
    "import pandas as pd\n",
    "\n",
    "from sklearn.neural_network import MLPClassifier\n",
    "from sklearn.neighbors import KNeighborsClassifier\n",
    "from sklearn.svm import SVC\n",
    "from sklearn.gaussian_process import GaussianProcessClassifier\n",
    "from sklearn.ensemble import GradientBoostingClassifier\n",
    "from sklearn.gaussian_process.kernels import RBF\n",
    "from sklearn.tree import DecisionTreeClassifier\n",
    "from sklearn.ensemble import ExtraTreesClassifier\n",
    "from sklearn.ensemble import RandomForestClassifier, AdaBoostClassifier\n",
    "from sklearn.naive_bayes import GaussianNB\n",
    "from sklearn.discriminant_analysis import QuadraticDiscriminantAnalysis\n",
    "from sklearn.linear_model import SGDClassifier"
   ]
  },
  {
   "cell_type": "code",
   "execution_count": 46,
   "metadata": {},
   "outputs": [],
   "source": [
    "names = [\"Nearest_Neighbors\", \"Linear_SVM\", \"Polynomial_SVM\", \"RBF_SVM\", \"Gaussian_Process\",\n",
    "         \"Gradient_Boosting\", \"Decision_Tree\", \"Extra_Trees\", \"Random_Forest\", \"Neural_Net\", \"AdaBoost\",\n",
    "         \"Naive_Bayes\", \"QDA\", \"SGD\"]\n",
    "\n",
    "classifiers = [\n",
    "    KNeighborsClassifier(3),\n",
    "    SVC(kernel=\"linear\", C=0.025),\n",
    "    SVC(kernel=\"poly\", degree=3, C=0.025),\n",
    "    SVC(kernel=\"rbf\", C=1, gamma=2),\n",
    "    GaussianProcessClassifier(1.0 * RBF(1.0)),\n",
    "    GradientBoostingClassifier(n_estimators=100, learning_rate=1.0),\n",
    "    DecisionTreeClassifier(max_depth=5),\n",
    "    ExtraTreesClassifier(n_estimators=10, min_samples_split=2),\n",
    "    RandomForestClassifier(max_depth=5, n_estimators=100),\n",
    "    MLPClassifier(alpha=1, max_iter=1000),\n",
    "    AdaBoostClassifier(n_estimators=100),\n",
    "    GaussianNB(),\n",
    "    QuadraticDiscriminantAnalysis(),\n",
    "    SGDClassifier(loss=\"hinge\", penalty=\"l2\")]"
   ]
  },
  {
   "cell_type": "markdown",
   "metadata": {},
   "source": [
    "### D) Record Accuracy Scores for the built models"
   ]
  },
  {
   "cell_type": "code",
   "execution_count": 47,
   "metadata": {},
   "outputs": [],
   "source": [
    "scores = []\n",
    "for name, clf in zip(names, classifiers):\n",
    "    clf.fit(X_train, Y_train)\n",
    "    score = clf.score(X_test, Y_test)\n",
    "    scores.append(score)"
   ]
  },
  {
   "cell_type": "code",
   "execution_count": 48,
   "metadata": {},
   "outputs": [
    {
     "data": {
      "text/plain": [
       "[0.6818181818181818,\n",
       " 0.7857142857142857,\n",
       " 0.7727272727272727,\n",
       " 0.7207792207792207,\n",
       " 0.7532467532467533,\n",
       " 0.7207792207792207,\n",
       " 0.7662337662337663,\n",
       " 0.7272727272727273,\n",
       " 0.7857142857142857,\n",
       " 0.7142857142857143,\n",
       " 0.7662337662337663,\n",
       " 0.7727272727272727,\n",
       " 0.7467532467532467,\n",
       " 0.6883116883116883]"
      ]
     },
     "execution_count": 48,
     "metadata": {},
     "output_type": "execute_result"
    }
   ],
   "source": [
    "scores"
   ]
  },
  {
   "cell_type": "markdown",
   "metadata": {},
   "source": [
    "### E) Model Performance Analysis"
   ]
  },
  {
   "cell_type": "code",
   "execution_count": 49,
   "metadata": {},
   "outputs": [
    {
     "data": {
      "text/html": [
       "<div>\n",
       "<style scoped>\n",
       "    .dataframe tbody tr th:only-of-type {\n",
       "        vertical-align: middle;\n",
       "    }\n",
       "\n",
       "    .dataframe tbody tr th {\n",
       "        vertical-align: top;\n",
       "    }\n",
       "\n",
       "    .dataframe thead th {\n",
       "        text-align: right;\n",
       "    }\n",
       "</style>\n",
       "<table border=\"1\" class=\"dataframe\">\n",
       "  <thead>\n",
       "    <tr style=\"text-align: right;\">\n",
       "      <th></th>\n",
       "      <th>name</th>\n",
       "      <th>score</th>\n",
       "    </tr>\n",
       "  </thead>\n",
       "  <tbody>\n",
       "    <tr>\n",
       "      <th>0</th>\n",
       "      <td>Nearest_Neighbors</td>\n",
       "      <td>0.681818</td>\n",
       "    </tr>\n",
       "    <tr>\n",
       "      <th>1</th>\n",
       "      <td>Linear_SVM</td>\n",
       "      <td>0.785714</td>\n",
       "    </tr>\n",
       "    <tr>\n",
       "      <th>2</th>\n",
       "      <td>Polynomial_SVM</td>\n",
       "      <td>0.772727</td>\n",
       "    </tr>\n",
       "    <tr>\n",
       "      <th>3</th>\n",
       "      <td>RBF_SVM</td>\n",
       "      <td>0.720779</td>\n",
       "    </tr>\n",
       "    <tr>\n",
       "      <th>4</th>\n",
       "      <td>Gaussian_Process</td>\n",
       "      <td>0.753247</td>\n",
       "    </tr>\n",
       "    <tr>\n",
       "      <th>5</th>\n",
       "      <td>Gradient_Boosting</td>\n",
       "      <td>0.720779</td>\n",
       "    </tr>\n",
       "    <tr>\n",
       "      <th>6</th>\n",
       "      <td>Decision_Tree</td>\n",
       "      <td>0.766234</td>\n",
       "    </tr>\n",
       "    <tr>\n",
       "      <th>7</th>\n",
       "      <td>Extra_Trees</td>\n",
       "      <td>0.727273</td>\n",
       "    </tr>\n",
       "    <tr>\n",
       "      <th>8</th>\n",
       "      <td>Random_Forest</td>\n",
       "      <td>0.785714</td>\n",
       "    </tr>\n",
       "    <tr>\n",
       "      <th>9</th>\n",
       "      <td>Neural_Net</td>\n",
       "      <td>0.714286</td>\n",
       "    </tr>\n",
       "    <tr>\n",
       "      <th>10</th>\n",
       "      <td>AdaBoost</td>\n",
       "      <td>0.766234</td>\n",
       "    </tr>\n",
       "    <tr>\n",
       "      <th>11</th>\n",
       "      <td>Naive_Bayes</td>\n",
       "      <td>0.772727</td>\n",
       "    </tr>\n",
       "    <tr>\n",
       "      <th>12</th>\n",
       "      <td>QDA</td>\n",
       "      <td>0.746753</td>\n",
       "    </tr>\n",
       "    <tr>\n",
       "      <th>13</th>\n",
       "      <td>SGD</td>\n",
       "      <td>0.688312</td>\n",
       "    </tr>\n",
       "  </tbody>\n",
       "</table>\n",
       "</div>"
      ],
      "text/plain": [
       "                 name     score\n",
       "0   Nearest_Neighbors  0.681818\n",
       "1          Linear_SVM  0.785714\n",
       "2      Polynomial_SVM  0.772727\n",
       "3             RBF_SVM  0.720779\n",
       "4    Gaussian_Process  0.753247\n",
       "5   Gradient_Boosting  0.720779\n",
       "6       Decision_Tree  0.766234\n",
       "7         Extra_Trees  0.727273\n",
       "8       Random_Forest  0.785714\n",
       "9          Neural_Net  0.714286\n",
       "10           AdaBoost  0.766234\n",
       "11        Naive_Bayes  0.772727\n",
       "12                QDA  0.746753\n",
       "13                SGD  0.688312"
      ]
     },
     "execution_count": 49,
     "metadata": {},
     "output_type": "execute_result"
    }
   ],
   "source": [
    "#make a datafrane \n",
    "df = pd.DataFrame()\n",
    "df['name'] = names\n",
    "df['score'] = scores\n",
    "df"
   ]
  },
  {
   "cell_type": "code",
   "execution_count": 52,
   "metadata": {},
   "outputs": [
    {
     "data": {
      "text/html": [
       "<style  type=\"text/css\" >\n",
       "    #T_0b5e5409_203d_11eb_8e90_58fb84651d59row0_col1 {\n",
       "            background-color:  #f3f0f3;\n",
       "            color:  #000000;\n",
       "        }    #T_0b5e5409_203d_11eb_8e90_58fb84651d59row1_col1 {\n",
       "            background-color:  #800080;\n",
       "            color:  #f1f1f1;\n",
       "        }    #T_0b5e5409_203d_11eb_8e90_58fb84651d59row2_col1 {\n",
       "            background-color:  #8e1d8e;\n",
       "            color:  #f1f1f1;\n",
       "        }    #T_0b5e5409_203d_11eb_8e90_58fb84651d59row3_col1 {\n",
       "            background-color:  #c895c8;\n",
       "            color:  #000000;\n",
       "        }    #T_0b5e5409_203d_11eb_8e90_58fb84651d59row4_col1 {\n",
       "            background-color:  #a44aa4;\n",
       "            color:  #f1f1f1;\n",
       "        }    #T_0b5e5409_203d_11eb_8e90_58fb84651d59row5_col1 {\n",
       "            background-color:  #c895c8;\n",
       "            color:  #000000;\n",
       "        }    #T_0b5e5409_203d_11eb_8e90_58fb84651d59row6_col1 {\n",
       "            background-color:  #952c95;\n",
       "            color:  #f1f1f1;\n",
       "        }    #T_0b5e5409_203d_11eb_8e90_58fb84651d59row7_col1 {\n",
       "            background-color:  #c086c0;\n",
       "            color:  #000000;\n",
       "        }    #T_0b5e5409_203d_11eb_8e90_58fb84651d59row8_col1 {\n",
       "            background-color:  #800080;\n",
       "            color:  #f1f1f1;\n",
       "        }    #T_0b5e5409_203d_11eb_8e90_58fb84651d59row9_col1 {\n",
       "            background-color:  #cfa5cf;\n",
       "            color:  #000000;\n",
       "        }    #T_0b5e5409_203d_11eb_8e90_58fb84651d59row10_col1 {\n",
       "            background-color:  #952c95;\n",
       "            color:  #f1f1f1;\n",
       "        }    #T_0b5e5409_203d_11eb_8e90_58fb84651d59row11_col1 {\n",
       "            background-color:  #8e1d8e;\n",
       "            color:  #f1f1f1;\n",
       "        }    #T_0b5e5409_203d_11eb_8e90_58fb84651d59row12_col1 {\n",
       "            background-color:  #ab59ab;\n",
       "            color:  #000000;\n",
       "        }    #T_0b5e5409_203d_11eb_8e90_58fb84651d59row13_col1 {\n",
       "            background-color:  #ece1ec;\n",
       "            color:  #000000;\n",
       "        }</style><table id=\"T_0b5e5409_203d_11eb_8e90_58fb84651d59\" ><thead>    <tr>        <th class=\"blank level0\" ></th>        <th class=\"col_heading level0 col0\" >name</th>        <th class=\"col_heading level0 col1\" >score</th>    </tr></thead><tbody>\n",
       "                <tr>\n",
       "                        <th id=\"T_0b5e5409_203d_11eb_8e90_58fb84651d59level0_row0\" class=\"row_heading level0 row0\" >0</th>\n",
       "                        <td id=\"T_0b5e5409_203d_11eb_8e90_58fb84651d59row0_col0\" class=\"data row0 col0\" >Nearest_Neighbors</td>\n",
       "                        <td id=\"T_0b5e5409_203d_11eb_8e90_58fb84651d59row0_col1\" class=\"data row0 col1\" >0.681818</td>\n",
       "            </tr>\n",
       "            <tr>\n",
       "                        <th id=\"T_0b5e5409_203d_11eb_8e90_58fb84651d59level0_row1\" class=\"row_heading level0 row1\" >1</th>\n",
       "                        <td id=\"T_0b5e5409_203d_11eb_8e90_58fb84651d59row1_col0\" class=\"data row1 col0\" >Linear_SVM</td>\n",
       "                        <td id=\"T_0b5e5409_203d_11eb_8e90_58fb84651d59row1_col1\" class=\"data row1 col1\" >0.785714</td>\n",
       "            </tr>\n",
       "            <tr>\n",
       "                        <th id=\"T_0b5e5409_203d_11eb_8e90_58fb84651d59level0_row2\" class=\"row_heading level0 row2\" >2</th>\n",
       "                        <td id=\"T_0b5e5409_203d_11eb_8e90_58fb84651d59row2_col0\" class=\"data row2 col0\" >Polynomial_SVM</td>\n",
       "                        <td id=\"T_0b5e5409_203d_11eb_8e90_58fb84651d59row2_col1\" class=\"data row2 col1\" >0.772727</td>\n",
       "            </tr>\n",
       "            <tr>\n",
       "                        <th id=\"T_0b5e5409_203d_11eb_8e90_58fb84651d59level0_row3\" class=\"row_heading level0 row3\" >3</th>\n",
       "                        <td id=\"T_0b5e5409_203d_11eb_8e90_58fb84651d59row3_col0\" class=\"data row3 col0\" >RBF_SVM</td>\n",
       "                        <td id=\"T_0b5e5409_203d_11eb_8e90_58fb84651d59row3_col1\" class=\"data row3 col1\" >0.720779</td>\n",
       "            </tr>\n",
       "            <tr>\n",
       "                        <th id=\"T_0b5e5409_203d_11eb_8e90_58fb84651d59level0_row4\" class=\"row_heading level0 row4\" >4</th>\n",
       "                        <td id=\"T_0b5e5409_203d_11eb_8e90_58fb84651d59row4_col0\" class=\"data row4 col0\" >Gaussian_Process</td>\n",
       "                        <td id=\"T_0b5e5409_203d_11eb_8e90_58fb84651d59row4_col1\" class=\"data row4 col1\" >0.753247</td>\n",
       "            </tr>\n",
       "            <tr>\n",
       "                        <th id=\"T_0b5e5409_203d_11eb_8e90_58fb84651d59level0_row5\" class=\"row_heading level0 row5\" >5</th>\n",
       "                        <td id=\"T_0b5e5409_203d_11eb_8e90_58fb84651d59row5_col0\" class=\"data row5 col0\" >Gradient_Boosting</td>\n",
       "                        <td id=\"T_0b5e5409_203d_11eb_8e90_58fb84651d59row5_col1\" class=\"data row5 col1\" >0.720779</td>\n",
       "            </tr>\n",
       "            <tr>\n",
       "                        <th id=\"T_0b5e5409_203d_11eb_8e90_58fb84651d59level0_row6\" class=\"row_heading level0 row6\" >6</th>\n",
       "                        <td id=\"T_0b5e5409_203d_11eb_8e90_58fb84651d59row6_col0\" class=\"data row6 col0\" >Decision_Tree</td>\n",
       "                        <td id=\"T_0b5e5409_203d_11eb_8e90_58fb84651d59row6_col1\" class=\"data row6 col1\" >0.766234</td>\n",
       "            </tr>\n",
       "            <tr>\n",
       "                        <th id=\"T_0b5e5409_203d_11eb_8e90_58fb84651d59level0_row7\" class=\"row_heading level0 row7\" >7</th>\n",
       "                        <td id=\"T_0b5e5409_203d_11eb_8e90_58fb84651d59row7_col0\" class=\"data row7 col0\" >Extra_Trees</td>\n",
       "                        <td id=\"T_0b5e5409_203d_11eb_8e90_58fb84651d59row7_col1\" class=\"data row7 col1\" >0.727273</td>\n",
       "            </tr>\n",
       "            <tr>\n",
       "                        <th id=\"T_0b5e5409_203d_11eb_8e90_58fb84651d59level0_row8\" class=\"row_heading level0 row8\" >8</th>\n",
       "                        <td id=\"T_0b5e5409_203d_11eb_8e90_58fb84651d59row8_col0\" class=\"data row8 col0\" >Random_Forest</td>\n",
       "                        <td id=\"T_0b5e5409_203d_11eb_8e90_58fb84651d59row8_col1\" class=\"data row8 col1\" >0.785714</td>\n",
       "            </tr>\n",
       "            <tr>\n",
       "                        <th id=\"T_0b5e5409_203d_11eb_8e90_58fb84651d59level0_row9\" class=\"row_heading level0 row9\" >9</th>\n",
       "                        <td id=\"T_0b5e5409_203d_11eb_8e90_58fb84651d59row9_col0\" class=\"data row9 col0\" >Neural_Net</td>\n",
       "                        <td id=\"T_0b5e5409_203d_11eb_8e90_58fb84651d59row9_col1\" class=\"data row9 col1\" >0.714286</td>\n",
       "            </tr>\n",
       "            <tr>\n",
       "                        <th id=\"T_0b5e5409_203d_11eb_8e90_58fb84651d59level0_row10\" class=\"row_heading level0 row10\" >10</th>\n",
       "                        <td id=\"T_0b5e5409_203d_11eb_8e90_58fb84651d59row10_col0\" class=\"data row10 col0\" >AdaBoost</td>\n",
       "                        <td id=\"T_0b5e5409_203d_11eb_8e90_58fb84651d59row10_col1\" class=\"data row10 col1\" >0.766234</td>\n",
       "            </tr>\n",
       "            <tr>\n",
       "                        <th id=\"T_0b5e5409_203d_11eb_8e90_58fb84651d59level0_row11\" class=\"row_heading level0 row11\" >11</th>\n",
       "                        <td id=\"T_0b5e5409_203d_11eb_8e90_58fb84651d59row11_col0\" class=\"data row11 col0\" >Naive_Bayes</td>\n",
       "                        <td id=\"T_0b5e5409_203d_11eb_8e90_58fb84651d59row11_col1\" class=\"data row11 col1\" >0.772727</td>\n",
       "            </tr>\n",
       "            <tr>\n",
       "                        <th id=\"T_0b5e5409_203d_11eb_8e90_58fb84651d59level0_row12\" class=\"row_heading level0 row12\" >12</th>\n",
       "                        <td id=\"T_0b5e5409_203d_11eb_8e90_58fb84651d59row12_col0\" class=\"data row12 col0\" >QDA</td>\n",
       "                        <td id=\"T_0b5e5409_203d_11eb_8e90_58fb84651d59row12_col1\" class=\"data row12 col1\" >0.746753</td>\n",
       "            </tr>\n",
       "            <tr>\n",
       "                        <th id=\"T_0b5e5409_203d_11eb_8e90_58fb84651d59level0_row13\" class=\"row_heading level0 row13\" >13</th>\n",
       "                        <td id=\"T_0b5e5409_203d_11eb_8e90_58fb84651d59row13_col0\" class=\"data row13 col0\" >SGD</td>\n",
       "                        <td id=\"T_0b5e5409_203d_11eb_8e90_58fb84651d59row13_col1\" class=\"data row13 col1\" >0.688312</td>\n",
       "            </tr>\n",
       "    </tbody></table>"
      ],
      "text/plain": [
       "<pandas.io.formats.style.Styler at 0x1ba9c8b39a0>"
      ]
     },
     "execution_count": 52,
     "metadata": {},
     "output_type": "execute_result"
    }
   ],
   "source": [
    "#personalize dataframe by adding colors\n",
    "#https://pandas.pydata.org/pandas-docs/stable/user_guide/style.html\n",
    "\n",
    "cm = sns.light_palette(\"purple\", as_cmap=True)\n",
    "s = df.style.background_gradient(cmap=cm)\n",
    "s"
   ]
  },
  {
   "cell_type": "code",
   "execution_count": 53,
   "metadata": {},
   "outputs": [
    {
     "data": {
      "image/png": "[encoded data removed]",
      "text/plain": [
       "<Figure size 432x288 with 1 Axes>"
      ]
     },
     "metadata": {},
     "output_type": "display_data"
    }
   ],
   "source": [
    "#barplot\n",
    "sns.set(style=\"whitegrid\")\n",
    "ax = sns.barplot(y=\"name\", x=\"score\", data=df)"
   ]
  }
 ],
 "metadata": {
  "kernelspec": {
   "display_name": "Python 3",
   "language": "python",
   "name": "python3"
  },
  "language_info": {
   "codemirror_mode": {
    "name": "ipython",
    "version": 3
   },
   "file_extension": ".py",
   "mimetype": "text/x-python",
   "name": "python",
   "nbconvert_exporter": "python",
   "pygments_lexer": "ipython3",
   "version": "3.8.3"
  }
 },
 "nbformat": 4,
 "nbformat_minor": 4
}
