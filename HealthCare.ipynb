{
 "cells": [
  {
   "cell_type": "code",
   "execution_count": 6,
   "metadata": {},
   "outputs": [
    {
     "name": "stdout",
     "output_type": "stream",
     "text": [
      "Collecting package metadata (current_repodata.json): ...working... done\n",
      "Solving environment: ...working... done\n",
      "\n",
      "## Package Plan ##\n",
      "\n",
      "  environment location: C:\\ProgramData\\Anaconda3\n",
      "\n",
      "  added / updated specs:\n",
      "    - pandas-profiling\n",
      "\n",
      "\n",
      "The following packages will be downloaded:\n",
      "\n",
      "    package                    |            build\n",
      "    ---------------------------|-----------------\n",
      "    conda-4.9.0                |   py38h9bdc248_1         3.1 MB  conda-forge\n",
      "    confuse-1.3.0              |     pyh9f0ad1d_0          20 KB  conda-forge\n",
      "    htmlmin-0.1.12             |             py_1          21 KB  conda-forge\n",
      "    imagehash-4.1.0            |     pyh9f0ad1d_0         288 KB  conda-forge\n",
      "    missingno-0.4.2            |             py_1          12 KB  conda-forge\n",
      "    pandas-profiling-2.9.0     |     pyh9f0ad1d_0         176 KB  conda-forge\n",
      "    phik-0.10.0                |             py_0         578 KB  conda-forge\n",
      "    python_abi-3.8             |           1_cp38           4 KB  conda-forge\n",
      "    seaborn-base-0.11.0        |             py_0         215 KB  conda-forge\n",
      "    tangled-up-in-unicode-0.0.6|     pyh9f0ad1d_0         2.0 MB  conda-forge\n",
      "    visions-0.5.0              |     pyh9f0ad1d_0          42 KB  conda-forge\n",
      "    ------------------------------------------------------------\n",
      "                                           Total:         6.3 MB\n",
      "\n",
      "The following NEW packages will be INSTALLED:\n",
      "\n",
      "  confuse            conda-forge/noarch::confuse-1.3.0-pyh9f0ad1d_0\n",
      "  htmlmin            conda-forge/noarch::htmlmin-0.1.12-py_1\n",
      "  imagehash          conda-forge/noarch::imagehash-4.1.0-pyh9f0ad1d_0\n",
      "  missingno          conda-forge/noarch::missingno-0.4.2-py_1\n",
      "  pandas-profiling   conda-forge/noarch::pandas-profiling-2.9.0-pyh9f0ad1d_0\n",
      "  phik               conda-forge/noarch::phik-0.10.0-py_0\n",
      "  python_abi         conda-forge/win-64::python_abi-3.8-1_cp38\n",
      "  seaborn-base       conda-forge/noarch::seaborn-base-0.11.0-py_0\n",
      "  tangled-up-in-uni~ conda-forge/noarch::tangled-up-in-unicode-0.0.6-pyh9f0ad1d_0\n",
      "  visions            conda-forge/noarch::visions-0.5.0-pyh9f0ad1d_0\n",
      "\n",
      "The following packages will be UPDATED:\n",
      "\n",
      "Note: you may need to restart the kernel to use updated packages.\n",
      "  conda                       pkgs/main::conda-4.9.0-py38_0 --> conda-forge::conda-4.9.0-py38h9bdc248_1\n",
      "\n",
      "\n",
      "\n",
      "Downloading and Extracting Packages\n",
      "\n",
      "phik-0.10.0          | 578 KB    |            |   0% \n",
      "phik-0.10.0          | 578 KB    | 2          |   3% \n",
      "phik-0.10.0          | 578 KB    | #######4   |  75% \n",
      "phik-0.10.0          | 578 KB    | ########## | 100% \n",
      "phik-0.10.0          | 578 KB    | ########## | 100% \n",
      "\n",
      "pandas-profiling-2.9 | 176 KB    |            |   0% \n",
      "pandas-profiling-2.9 | 176 KB    | ########1  |  82% \n",
      "pandas-profiling-2.9 | 176 KB    | ########## | 100% \n",
      "\n",
      "python_abi-3.8       | 4 KB      |            |   0% \n",
      "python_abi-3.8       | 4 KB      | ########## | 100% \n",
      "python_abi-3.8       | 4 KB      | ########## | 100% \n",
      "\n",
      "missingno-0.4.2      | 12 KB     |            |   0% \n",
      "missingno-0.4.2      | 12 KB     | ########## | 100% \n",
      "missingno-0.4.2      | 12 KB     | ########## | 100% \n",
      "\n",
      "tangled-up-in-unicod | 2.0 MB    |            |   0% \n",
      "tangled-up-in-unicod | 2.0 MB    | 8          |   9% \n",
      "tangled-up-in-unicod | 2.0 MB    | ####4      |  45% \n",
      "tangled-up-in-unicod | 2.0 MB    | ########## | 100% \n",
      "tangled-up-in-unicod | 2.0 MB    | ########## | 100% \n",
      "\n",
      "htmlmin-0.1.12       | 21 KB     |            |   0% \n",
      "htmlmin-0.1.12       | 21 KB     | ########## | 100% \n",
      "htmlmin-0.1.12       | 21 KB     | ########## | 100% \n",
      "\n",
      "imagehash-4.1.0      | 288 KB    |            |   0% \n",
      "imagehash-4.1.0      | 288 KB    | ########## | 100% \n",
      "imagehash-4.1.0      | 288 KB    | ########## | 100% \n",
      "\n"
     ]
    },
    {
     "name": "stderr",
     "output_type": "stream",
     "text": [
      "\n",
      "EnvironmentNotWritableError: The current user does not have write permissions to the target environment.\n",
      "  environment location: C:\\ProgramData\\Anaconda3\n",
      "\n",
      "\n"
     ]
    },
    {
     "name": "stdout",
     "output_type": "stream",
     "text": [
      "\n",
      "seaborn-base-0.11.0  | 215 KB    |            |   0% \n",
      "seaborn-base-0.11.0  | 215 KB    | ########## | 100% \n",
      "seaborn-base-0.11.0  | 215 KB    | ########## | 100% \n",
      "\n",
      "confuse-1.3.0        | 20 KB     |            |   0% \n",
      "confuse-1.3.0        | 20 KB     | ########## | 100% \n",
      "\n",
      "visions-0.5.0        | 42 KB     |            |   0% \n",
      "visions-0.5.0        | 42 KB     | ########## | 100% \n",
      "visions-0.5.0        | 42 KB     | ########## | 100% \n",
      "\n",
      "conda-4.9.0          | 3.1 MB    |            |   0% \n",
      "conda-4.9.0          | 3.1 MB    | #1         |  12% \n",
      "conda-4.9.0          | 3.1 MB    | ####       |  40% \n",
      "conda-4.9.0          | 3.1 MB    | #######1   |  71% \n",
      "conda-4.9.0          | 3.1 MB    | #########9 | 100% \n",
      "conda-4.9.0          | 3.1 MB    | ########## | 100% \n",
      "Preparing transaction: ...working... done\n",
      "Verifying transaction: ...working... failed\n"
     ]
    }
   ],
   "source": [
    "conda install -c conda-forge pandas-profiling"
   ]
  },
  {
   "cell_type": "code",
   "execution_count": 8,
   "metadata": {},
   "outputs": [],
   "source": [
    "import numpy as np\n",
    "import pandas as pd\n",
    "from pandas_profiling import ProfileReport"
   ]
  },
  {
   "cell_type": "code",
   "execution_count": 9,
   "metadata": {},
   "outputs": [],
   "source": [
    "from sklearn.datasets import load_diabetes"
   ]
  },
  {
   "cell_type": "code",
   "execution_count": 10,
   "metadata": {},
   "outputs": [],
   "source": [
    "diabetes_data=load_diabetes()"
   ]
  },
  {
   "cell_type": "code",
   "execution_count": 11,
   "metadata": {},
   "outputs": [],
   "source": [
    "df=pd.DataFrame(data=diabetes_data.data, columns=diabetes_data.feature_names)"
   ]
  },
  {
   "cell_type": "code",
   "execution_count": 12,
   "metadata": {},
   "outputs": [
    {
     "data": {
      "text/html": [
       "<div>\n",
       "<style scoped>\n",
       "    .dataframe tbody tr th:only-of-type {\n",
       "        vertical-align: middle;\n",
       "    }\n",
       "\n",
       "    .dataframe tbody tr th {\n",
       "        vertical-align: top;\n",
       "    }\n",
       "\n",
       "    .dataframe thead th {\n",
       "        text-align: right;\n",
       "    }\n",
       "</style>\n",
       "<table border=\"1\" class=\"dataframe\">\n",
       "  <thead>\n",
       "    <tr style=\"text-align: right;\">\n",
       "      <th></th>\n",
       "      <th>age</th>\n",
       "      <th>sex</th>\n",
       "      <th>bmi</th>\n",
       "      <th>bp</th>\n",
       "      <th>s1</th>\n",
       "      <th>s2</th>\n",
       "      <th>s3</th>\n",
       "      <th>s4</th>\n",
       "      <th>s5</th>\n",
       "      <th>s6</th>\n",
       "    </tr>\n",
       "  </thead>\n",
       "  <tbody>\n",
       "    <tr>\n",
       "      <th>0</th>\n",
       "      <td>0.038076</td>\n",
       "      <td>0.050680</td>\n",
       "      <td>0.061696</td>\n",
       "      <td>0.021872</td>\n",
       "      <td>-0.044223</td>\n",
       "      <td>-0.034821</td>\n",
       "      <td>-0.043401</td>\n",
       "      <td>-0.002592</td>\n",
       "      <td>0.019908</td>\n",
       "      <td>-0.017646</td>\n",
       "    </tr>\n",
       "    <tr>\n",
       "      <th>1</th>\n",
       "      <td>-0.001882</td>\n",
       "      <td>-0.044642</td>\n",
       "      <td>-0.051474</td>\n",
       "      <td>-0.026328</td>\n",
       "      <td>-0.008449</td>\n",
       "      <td>-0.019163</td>\n",
       "      <td>0.074412</td>\n",
       "      <td>-0.039493</td>\n",
       "      <td>-0.068330</td>\n",
       "      <td>-0.092204</td>\n",
       "    </tr>\n",
       "    <tr>\n",
       "      <th>2</th>\n",
       "      <td>0.085299</td>\n",
       "      <td>0.050680</td>\n",
       "      <td>0.044451</td>\n",
       "      <td>-0.005671</td>\n",
       "      <td>-0.045599</td>\n",
       "      <td>-0.034194</td>\n",
       "      <td>-0.032356</td>\n",
       "      <td>-0.002592</td>\n",
       "      <td>0.002864</td>\n",
       "      <td>-0.025930</td>\n",
       "    </tr>\n",
       "    <tr>\n",
       "      <th>3</th>\n",
       "      <td>-0.089063</td>\n",
       "      <td>-0.044642</td>\n",
       "      <td>-0.011595</td>\n",
       "      <td>-0.036656</td>\n",
       "      <td>0.012191</td>\n",
       "      <td>0.024991</td>\n",
       "      <td>-0.036038</td>\n",
       "      <td>0.034309</td>\n",
       "      <td>0.022692</td>\n",
       "      <td>-0.009362</td>\n",
       "    </tr>\n",
       "    <tr>\n",
       "      <th>4</th>\n",
       "      <td>0.005383</td>\n",
       "      <td>-0.044642</td>\n",
       "      <td>-0.036385</td>\n",
       "      <td>0.021872</td>\n",
       "      <td>0.003935</td>\n",
       "      <td>0.015596</td>\n",
       "      <td>0.008142</td>\n",
       "      <td>-0.002592</td>\n",
       "      <td>-0.031991</td>\n",
       "      <td>-0.046641</td>\n",
       "    </tr>\n",
       "  </tbody>\n",
       "</table>\n",
       "</div>"
      ],
      "text/plain": [
       "        age       sex       bmi        bp        s1        s2        s3  \\\n",
       "0  0.038076  0.050680  0.061696  0.021872 -0.044223 -0.034821 -0.043401   \n",
       "1 -0.001882 -0.044642 -0.051474 -0.026328 -0.008449 -0.019163  0.074412   \n",
       "2  0.085299  0.050680  0.044451 -0.005671 -0.045599 -0.034194 -0.032356   \n",
       "3 -0.089063 -0.044642 -0.011595 -0.036656  0.012191  0.024991 -0.036038   \n",
       "4  0.005383 -0.044642 -0.036385  0.021872  0.003935  0.015596  0.008142   \n",
       "\n",
       "         s4        s5        s6  \n",
       "0 -0.002592  0.019908 -0.017646  \n",
       "1 -0.039493 -0.068330 -0.092204  \n",
       "2 -0.002592  0.002864 -0.025930  \n",
       "3  0.034309  0.022692 -0.009362  \n",
       "4 -0.002592 -0.031991 -0.046641  "
      ]
     },
     "execution_count": 12,
     "metadata": {},
     "output_type": "execute_result"
    }
   ],
   "source": [
    "df.head()"
   ]
  },
  {
   "cell_type": "code",
   "execution_count": 13,
   "metadata": {},
   "outputs": [
    {
     "data": {
      "text/plain": [
       "Index(['age', 'sex', 'bmi', 'bp', 's1', 's2', 's3', 's4', 's5', 's6'], dtype='object')"
      ]
     },
     "execution_count": 13,
     "metadata": {},
     "output_type": "execute_result"
    }
   ],
   "source": [
    "df.columns"
   ]
  },
  {
   "cell_type": "code",
   "execution_count": 15,
   "metadata": {},
   "outputs": [],
   "source": [
    "#creat a simple report \n",
    "profile=ProfileReport(df, title=\"Diabetes_data_EDProfile\", explorative=True)"
   ]
  },
  {
   "cell_type": "code",
   "execution_count": 17,
   "metadata": {},
   "outputs": [
    {
     "data": {
      "application/vnd.jupyter.widget-view+json": {
       "model_id": "264e4fdd5f41417496f1b6fc4380d09d",
       "version_major": 2,
       "version_minor": 0
      },
      "text/plain": [
       "HBox(children=(FloatProgress(value=0.0, description='Summarize dataset', max=24.0, style=ProgressStyle(descrip…"
      ]
     },
     "metadata": {},
     "output_type": "display_data"
    },
    {
     "name": "stdout",
     "output_type": "stream",
     "text": [
      "\n"
     ]
    },
    {
     "data": {
      "application/vnd.jupyter.widget-view+json": {
       "model_id": "fdbe5b242bd247ef95e6654f8598fe5f",
       "version_major": 2,
       "version_minor": 0
      },
      "text/plain": [
       "HBox(children=(FloatProgress(value=0.0, description='Generate report structure', max=1.0, style=ProgressStyle(…"
      ]
     },
     "metadata": {},
     "output_type": "display_data"
    },
    {
     "name": "stdout",
     "output_type": "stream",
     "text": [
      "\n"
     ]
    },
    {
     "data": {
      "application/vnd.jupyter.widget-view+json": {
       "model_id": "",
       "version_major": 2,
       "version_minor": 0
      },
      "text/plain": [
       "HBox(children=(FloatProgress(value=0.0, description='Render widgets', max=1.0, style=ProgressStyle(description…"
      ]
     },
     "metadata": {},
     "output_type": "display_data"
    },
    {
     "data": {
      "application/vnd.jupyter.widget-view+json": {
       "model_id": "d4dc80931a4c4e348d071c8a1c17e551",
       "version_major": 2,
       "version_minor": 0
      },
      "text/plain": [
       "VBox(children=(Tab(children=(Tab(children=(GridBox(children=(VBox(children=(GridspecLayout(children=(HTML(valu…"
      ]
     },
     "metadata": {},
     "output_type": "display_data"
    }
   ],
   "source": [
    "#obtain report in jupyter\n",
    "profile.to_widgets()"
   ]
  },
  {
   "cell_type": "code",
   "execution_count": 24,
   "metadata": {},
   "outputs": [
    {
     "data": {
      "application/vnd.jupyter.widget-view+json": {
       "model_id": "7d1415e10f914407b18f91249e0fe30b",
       "version_major": 2,
       "version_minor": 0
      },
      "text/plain": [
       "HBox(children=(FloatProgress(value=0.0, description='Export report to file', max=1.0, style=ProgressStyle(desc…"
      ]
     },
     "metadata": {},
     "output_type": "display_data"
    },
    {
     "name": "stdout",
     "output_type": "stream",
     "text": [
      "\n"
     ]
    }
   ],
   "source": [
    "profile.to_file(\"diabetes_output.html\")"
   ]
  },
  {
   "cell_type": "code",
   "execution_count": null,
   "metadata": {},
   "outputs": [],
   "source": []
  },
  {
   "cell_type": "code",
   "execution_count": null,
   "metadata": {},
   "outputs": [],
   "source": []
  }
 ],
 "metadata": {
  "kernelspec": {
   "display_name": "Python 3",
   "language": "python",
   "name": "python3"
  },
  "language_info": {
   "codemirror_mode": {
    "name": "ipython",
    "version": 3
   },
   "file_extension": ".py",
   "mimetype": "text/x-python",
   "name": "python",
   "nbconvert_exporter": "python",
   "pygments_lexer": "ipython3",
   "version": "3.8.3"
  }
 },
 "nbformat": 4,
 "nbformat_minor": 4
}
